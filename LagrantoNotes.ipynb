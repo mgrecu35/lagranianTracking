{
 "cells": [
  {
   "cell_type": "markdown",
   "metadata": {},
   "source": [
    "### Notes\n",
    "\n",
    "1. Script runLagranto runs lagranto backwards.  \n",
    "2. To create a start file, use create_startf. Here, startf is created from a region. The region is defined in regionf. Syntax is region.eq(2,30) @ profile(100,80,15) @hPa,agl. 30 is the step-size in km. The syntax for create_startf is time filename.\n",
    "3. Trajectories are determined using caltra\n",
    "4. Tracing meteorological variables is done with trace.  The actual variables are specified in tracevars. Syntax is\n",
    "\n",
    "Trace definition format\n",
    "\n",
    "|var | scale| calculate?| file type|\n",
    "  |----|------|-----|-----|\n",
    "  |PS    | 1. | 0 | P |\n",
    "   | Q    |1000.|  0| P|\n",
    "\n",
    "Code is located in directory /home/grecu/lagranto/lagranto.ecmwf/cdo\n"
   ]
  },
  {
   "cell_type": "code",
   "execution_count": 1,
   "metadata": {},
   "outputs": [],
   "source": [
    "import os\n",
    "os.environ['LAGRANTO']='/home/grecu/lagranto/lagranto.ecmwf'\n",
    "os.environ['LD_LIBRARY_PATH']='/home/grecu/netcdf3/lib'\n",
    "\n",
    "cmd='../bin/create_startf 20151202_12 startf_20151202_12 \"region.eqd(2,30) @ profile(100,800,15) @hPa,agl\"'\n",
    "os.system(cmd)\n",
    "cmd='../bin/caltra 20151202_12 20151122_12 startf_20151202_12 traj2b.4   -o 360 -j'"
   ]
  },
  {
   "cell_type": "code",
   "execution_count": null,
   "metadata": {},
   "outputs": [],
   "source": [
    "%matplotlib inline\n",
    "import matplotlib.pyplot as plt\n",
    "\n",
    "from netCDF4 import Dataset\n",
    "from mpl_toolkits.basemap import Basemap, cm\n",
    "import numpy as np\n",
    "\n",
    "\n",
    "f=Dataset('traj2b.4','r')\n",
    "\n",
    "x=f['lon'][:,:,:]\n",
    "y=f['lat'][:,:,:]\n",
    "p=f['p'][:,:,:]\n",
    "q=f['Q'][:,:,:]\n",
    "import glob\n",
    "files=sorted(glob.glob(\"P2015*\"))[0:42]\n",
    "import sys\n",
    "sys.path.append(\"/home/grecu/lagranto/lagranto.ecmwf/cdo\")\n",
    "\n",
    "from numpy import *\n",
    "a=nonzero(p[0,0,0,:]-p[1,0,0,:]<-30)\n",
    "b=nonzero(p[4,0,0,:][a]>100)\n",
    "c=nonzero(p[20,0,0,:][a][b]>100)\n",
    "\n",
    "dqdt=zeros((40,20),float)\n",
    "count=zeros((40,20),float)\n",
    "for i in a[0][b][c]:\n",
    "    for j in range(40):\n",
    "        ip=int(((p[j:j+2,0,0,i]).mean()-50)/50.)\n",
    "        if ip>=0 and ip<20:\n",
    "            dqdt[j,ip]+=(q[j,0,0,i]-q[j+1,0,0,i])\n",
    "            count[j,ip]+=1\n",
    "\n",
    "a=nonzero(count>0)\n",
    "dqdt[a]=dqdt[a]/count[a]\n",
    "dqdtm=ma.array(dqdt,mask=abs(dqdt)<0.05)\n",
    "matplotlib.rcParams.update({'font.size': 20})\n"
   ]
  },
  {
   "cell_type": "code",
   "execution_count": 5,
   "metadata": {},
   "outputs": [
    {
     "data": {
      "text/plain": [
       "<matplotlib.colorbar.Colorbar at 0x7f86a2b1a5c0>"
      ]
     },
     "execution_count": 5,
     "metadata": {},
     "output_type": "execute_result"
    },
    {
     "data": {
      "image/png": "[encoded data removed]",
      "text/plain": [
       "<Figure size 432x288 with 2 Axes>"
      ]
     },
     "metadata": {
      "needs_background": "light"
     },
     "output_type": "display_data"
    }
   ],
   "source": [
    "plt.pcolormesh(-236+arange(40)*6,25+arange(20)*50,dqdtm[::-1,:].T,cmap='RdBu_r',\\\n",
    "               vmin=-1,vmax=1)\n",
    "plt.ylim(975,400)\n",
    "plt.xlabel('Hours')\n",
    "plt.ylabel('Pressure (mPa)')\n",
    "plt.title('6 Hourly delta Q (g/kg)')\n",
    "plt.colorbar()"
   ]
  },
  {
   "cell_type": "code",
   "execution_count": null,
   "metadata": {},
   "outputs": [],
   "source": []
  }
 ],
 "metadata": {
  "kernelspec": {
   "display_name": "Python 3",
   "language": "python",
   "name": "python3"
  },
  "language_info": {
   "codemirror_mode": {
    "name": "ipython",
    "version": 3
   },
   "file_extension": ".py",
   "mimetype": "text/x-python",
   "name": "python",
   "nbconvert_exporter": "python",
   "pygments_lexer": "ipython3",
   "version": "3.7.3"
  }
 },
 "nbformat": 4,
 "nbformat_minor": 2
}
